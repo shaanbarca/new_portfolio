{
  "cells": [
    {
      "cell_type": "markdown",
      "metadata": {
        "id": "6SfZkS4VTxrF"
      },
      "source": [
        "# Traveloka take home assestment\n",
        "\n",
        "### Objective: \n",
        "We want to know which algorithm maximizes engagement. To do so, we will conduct an A/B test.\n",
        "\n",
        "### Things to consider:\n",
        "There are several potential confounding factors that we need to take into account.\n",
        "\n",
        "* The login state of the user. Perhaps, Users that are logged in have more data and different algorithms are more optimized when they have little data or a lot of data\n",
        "* The interface, we would like to know if different algorithms perform better for different interfaces.\n",
        "* We also see if other variables such as date play a role\n",
        "\n",
        "#### Assumption:\n",
        "* Assumed that algorithim allocation was done randomly\n",
        "* Assumed that sample given was collected randomly\n",
        "* Assume each observation was independent from each other\n",
        "\n",
        "\n",
        "### Hypothesis\n",
        "\n",
        "Due to the different segments and multiple treatments within our experiment, we have multiple null and alternative hypothesis.\n",
        "\n",
        "\n",
        "\n",
        "**1st Null hypothesis** : There is no meaningful difference in engagement rate between control treatment and alt_a and differences are due to random chance\n",
        "\n",
        "**2nd Null hypothesis** : There is no difference in engagement rate between control treatment and alt_b and differences are due to random chance\n",
        "\n",
        "**3rd Null hypothesis** : There is no difference in engagement rate between alt_a treatment and alt_b and differences are due to random chance\n",
        "\n",
        "\n",
        "\n",
        "**1st Alternative hypothesis** : There is a significant difference in engagement rate between control treatment and alt_a \n",
        "\n",
        "**2nd Alternative hypothesis** : There is a significant difference in engagement rate between control treatment and alt_a \n",
        "\n",
        "**3rd Alternative hypothesis** : There is a significant difference in engagement rate between alt_a treatment and alt_b\n",
        "\n",
        "\n",
        "**Note: We can use a 1 tailed t-test as what we are interested is whether the conversion rate of a particular variant is better than the control variant and each other, however to be very strict, we use a two tailed t-test. If so our null-hyp would whether engagement rate using alt-x is greater than control**\n",
        "\n",
        "\n",
        "As we are dealing with different interfaces and login states, we will conduct hypothesis testing seperately for the different segments\n",
        "\n",
        "\n",
        "### Metrics\n",
        "\n",
        "The metric for this experiment is the **engagment rate** which is defined as \n",
        "\n",
        "**engagment rate** : content engaged / content seen\n",
        "\n",
        "We will also be calculating lift which is the imporvement of engagement rate between 2 different algorithims. Lift is an important metric that was included as while statistical signficant shows us the difference that occurs is unlikely due to random chance, it does not answer if the difference is actually meaningful for us. It also is influenced by our sample size. A larger sample size allows us to detect statisitical significance better. However in this case, we want to know by how much has the engagement rate improved by? \n",
        "\n",
        "\n",
        "\n",
        "\n",
        "### Procedure\n",
        "\n",
        "There were several steps taken before we conduct the test.\n",
        "\n",
        "1. Data cleaning and EDA. \n",
        "2. Experiment blocking / segment our data\n",
        "3. Power analysis. The sample size is quite large but we can never be to sure\n",
        "\n",
        "Finally we choose to utilize a t-test to conduct our A/B test.\n",
        "\n",
        "#### Blocking\n",
        "\n",
        "Based on the data, we see that users with a login state(identified) = FALSE almost all were given the control treatment. As the the number of users with a login = FALSE were very small compared to logged in Users, they were removed from our test.\n",
        "\n",
        "As mentioned in the hypothesis section, as there are different interfaces, we will segment them before conducting the hypothesis test. The allocation of treatments were disproportional past certain dates, to account for that we restrict the dates too. \n",
        "\n",
        "#### Avoiding p-hacking\n",
        "As we are conducting multiple hypothesis test, we also use a Šidák correction as we are doing multiple comparisons. This is because we want to avoid p-hacking or p-fishing and also since these are independent test, we use Šidák correction over a Bonferroni correction\n",
        "\n",
        "\n",
        "## Results\n",
        "\n",
        "#### mobile-android interface \n",
        "\n",
        "\n",
        "The lift percentages were : \n",
        "1. lift alt_a vs control: 80.21%\n",
        "2. lift alt_b vs control: 61.17%\n",
        "3. lift alt_a vs alt_b: 11.81% \n",
        "\n",
        "\n",
        "Adjusted p values for each test:  \n",
        "1.  0.       \n",
        "2.  0.       \n",
        "3.  0.050147\n",
        "\n",
        "adjusted alpha Šidák:  0.017 \n",
        "\n",
        "#### mobile-ios interface \n",
        "\n",
        "\n",
        "The lift percentages were : \n",
        "\n",
        "1.  lift alt_a vs control: 105.49%\n",
        "2.  lift alt_b vs control: 77.29%\n",
        "3.  lift alt_a vs alt_b: 15.91% \n",
        "\n",
        "\n",
        "adjusted p values for each test: \n",
        "1. 3.19061444e-11\n",
        "2. 6.22256248e-07\n",
        "3. 2.71050077e-01\n",
        "\n",
        "adjusted alpha Šidák:  0.017 \n",
        "\n",
        "#### Alt_a vs control\n",
        "\n",
        "From the results we that for both android and iOS, alt a improved the engagement rate of control algorithm significantly. With an adjusted p-value of 0.017 the result is indeed significantly and this is also reflected in the lift 80% improvement for android interface and 105.49% improvement for iOS. \n",
        "The improvements were more higher for iOS This could be the due to the android users having a higher volume. \n",
        "\n",
        "#### Alt_b vs control\n",
        "\n",
        "The results alt B also showed significant improvement for their engagement rate. The results were statisitcally significant for both interfaces, even with the adjusted p-value of 0.017. The lift improvement was still large, a 61% improvement for android and 77.29% for iOS. This is consistent with the previous result where the improvement in engagement was higher in ios than for android users. \n",
        "\n",
        "#### Alt_a vs Alt_b\n",
        "\n",
        "For all interfaces, The improvement between alt_a vs alt_b is not statistically significant. However, we can see that the alt_a has a higher lift 11.81% for android vs 15.91% in iOS. \n",
        "\n",
        "For detailed results, please view the hypothesis section below\n",
        "\n",
        "\n",
        "### Conclusion\n",
        "\n",
        "Based on the results of our A/B test. We see that **Alt_a** performs the best to maximize engagement when we take into account lift on both interfaces. That said, the differences in engagement performance between alt_a vs alt_b could be due to random chance. However, if we use a one tailed t-test we do see that alt-a indeed has a greater engagement rate than alt-b (adjusted p-value: 0.025) but only for the Android interface. This difference is probably detected due to the larger sample size for android. (Please check last section for t-test result)\n",
        "\n",
        "\n",
        "\n",
        "\n",
        "\n",
        "### References\n",
        "\n",
        "Ngo, Nguyen. “The Math behind A/B Testing with Example Python Code.” Medium, Towards Data Science, 17 Jan. 2020, https://towardsdatascience.com/the-math-behind-a-b-testing-with-example-code-part-1-of-2-7be752e1d06f. \n",
        "\n",
        "Zheng, Paulina. “An Overview of Methods to Address the Multiple Comparison Problem.” Medium, Towards Data Science, 7 Aug. 2018, https://towardsdatascience.com/an-overview-of-methods-to-address-the-multiple-comparison-problem-310427b3ba92. \n",
        "\n",
        "“Experimental Design and Blocking.” Data Science Discovery, https://discovery.cs.illinois.edu/learn/Basics-of-Data-Science-with-Python/Experimental-Design-and-Blocking/. \n",
        "\n",
        "https://app.datacamp.com/learn/courses/analyzing-marketing-campaigns-with-pandas\n",
        "\n",
        "https://app.datacamp.com/learn/courses/experimental-design-in-python\n",
        "\n",
        "\n",
        "\n",
        "\n",
        "\n"
      ]
    },
    {
      "cell_type": "markdown",
      "metadata": {
        "id": "KnoTKO4-NBdL"
      },
      "source": [
        "# Libraries "
      ]
    },
    {
      "cell_type": "code",
      "execution_count": null,
      "metadata": {
        "colab": {
          "base_uri": "https://localhost:8080/"
        },
        "id": "CnDVG-b5THi5",
        "outputId": "5571f128-a186-4724-99cf-fdb55de0cdb9"
      },
      "outputs": [
        {
          "name": "stdout",
          "output_type": "stream",
          "text": [
            "Looking in indexes: https://pypi.org/simple, https://us-python.pkg.dev/colab-wheels/public/simple/\n",
            "Requirement already satisfied: scipy in /usr/local/lib/python3.7/dist-packages (1.7.3)\n",
            "Requirement already satisfied: numpy<1.23.0,>=1.16.5 in /usr/local/lib/python3.7/dist-packages (from scipy) (1.21.6)\n"
          ]
        }
      ],
      "source": [
        "!pip install --upgrade scipy"
      ]
    },
    {
      "cell_type": "code",
      "execution_count": null,
      "metadata": {
        "colab": {
          "base_uri": "https://localhost:8080/"
        },
        "id": "Ck_EW74SDx9x",
        "outputId": "0f0a40a1-966b-4b01-f7d3-fa5d1b6672d5"
      },
      "outputs": [
        {
          "name": "stderr",
          "output_type": "stream",
          "text": [
            "/usr/local/lib/python3.7/dist-packages/statsmodels/tools/_testing.py:19: FutureWarning: pandas.util.testing is deprecated. Use the functions in the public API at pandas.testing instead.\n",
            "  import pandas.util.testing as tm\n"
          ]
        }
      ],
      "source": [
        "import pandas as pd\n",
        "import numpy as np\n",
        "import matplotlib.pyplot as plt\n",
        "import matplotlib as mlp\n",
        "import seaborn as sns\n",
        "from matplotlib import rcParams\n",
        "from google.colab import drive\n",
        "from scipy.stats import ttest_ind\n",
        "from scipy import stats\n",
        "import statsmodels as sm\n",
        "from statsmodels.stats import power as pwr\n",
        "import statsmodels.api as smapi\n",
        "\n",
        "#-------------------------------\n",
        "sns.set_theme(style=\"whitegrid\")\n",
        "sns.set(rc={'figure.figsize':(11.7,8.27)})"
      ]
    },
    {
      "cell_type": "markdown",
      "metadata": {
        "id": "CHqtyISYNFpR"
      },
      "source": [
        "# Loading Dataset"
      ]
    },
    {
      "cell_type": "code",
      "execution_count": null,
      "metadata": {
        "colab": {
          "base_uri": "https://localhost:8080/"
        },
        "id": "8zZ-1zxWEGR0",
        "outputId": "4434820d-7e77-4030-fdf9-bf9e1bb190a9"
      },
      "outputs": [
        {
          "name": "stdout",
          "output_type": "stream",
          "text": [
            "Drive already mounted at /content/gdrive; to attempt to forcibly remount, call drive.mount(\"/content/gdrive\", force_remount=True).\n"
          ]
        }
      ],
      "source": [
        "drive.mount('/content/gdrive')"
      ]
    },
    {
      "cell_type": "code",
      "execution_count": null,
      "metadata": {
        "id": "72RQP32AELoC"
      },
      "outputs": [],
      "source": [
        "mock_experiment_df = pd.read_csv('/content/gdrive/MyDrive/traveloka/Data_Scientist_-_Take_Home_Test/mock_experimentation_log.csv',\n",
        "                                 parse_dates = ['event_timestamp'])\n",
        "\n",
        "mock_homepage_df = pd.read_csv('/content/gdrive/MyDrive/traveloka/Data_Scientist_-_Take_Home_Test/mock_homepage_carousel_log.csv',\n",
        "                                 parse_dates = ['event_timestamp'])"
      ]
    },
    {
      "cell_type": "code",
      "execution_count": null,
      "metadata": {
        "id": "OAgj5giyUDmR"
      },
      "outputs": [],
      "source": [
        "# regex to clean treatment col\n",
        "mock_experiment_df['treatment'] = mock_experiment_df['treatment'].replace({r\"{\": r\"\"},regex=True)\n",
        "mock_experiment_df['treatment'] = mock_experiment_df['treatment'].replace({r\"}\": r\"\"},regex=True)\n",
        "mock_experiment_df['treatment'] = mock_experiment_df['treatment'].replace({r\"(variant)\\\":\\\"(.+)\\\"\": r\"\\2\"},regex=True)\n",
        "mock_experiment_df['treatment'] = mock_experiment_df['treatment'].replace({r\"\\\"\": r\"\"},regex=True)\n"
      ]
    },
    {
      "cell_type": "code",
      "execution_count": null,
      "metadata": {
        "colab": {
          "base_uri": "https://localhost:8080/",
          "height": 206
        },
        "id": "Fp6rqrxiEiEd",
        "outputId": "ea6e7204-68c7-4281-e74c-d44a118e8816"
      },
      "outputs": [
        {
          "data": {
            "text/html": [
              "\n",
              "  <div id=\"df-3e8f6b7f-df8f-402c-b1f2-85c095b9e386\">\n",
              "    <div class=\"colab-df-container\">\n",
              "      <div>\n",
              "<style scoped>\n",
              "    .dataframe tbody tr th:only-of-type {\n",
              "        vertical-align: middle;\n",
              "    }\n",
              "\n",
              "    .dataframe tbody tr th {\n",
              "        vertical-align: top;\n",
              "    }\n",
              "\n",
              "    .dataframe thead th {\n",
              "        text-align: right;\n",
              "    }\n",
              "</style>\n",
              "<table border=\"1\" class=\"dataframe\">\n",
              "  <thead>\n",
              "    <tr style=\"text-align: right;\">\n",
              "      <th></th>\n",
              "      <th>event_timestamp</th>\n",
              "      <th>unit_id</th>\n",
              "      <th>identified</th>\n",
              "      <th>interface</th>\n",
              "      <th>treatment</th>\n",
              "    </tr>\n",
              "  </thead>\n",
              "  <tbody>\n",
              "    <tr>\n",
              "      <th>88604</th>\n",
              "      <td>2021-05-03 14:26:23</td>\n",
              "      <td>mhg40WMu4R55s7qP+SRcGSFuGv4=</td>\n",
              "      <td>False</td>\n",
              "      <td>mobile-iOS</td>\n",
              "      <td>alt_a</td>\n",
              "    </tr>\n",
              "    <tr>\n",
              "      <th>88605</th>\n",
              "      <td>2021-05-03 12:44:25</td>\n",
              "      <td>ov4ikC+XujcXPsFfrB/9Plkqze8=</td>\n",
              "      <td>True</td>\n",
              "      <td>mobile-android</td>\n",
              "      <td>alt_a</td>\n",
              "    </tr>\n",
              "    <tr>\n",
              "      <th>88606</th>\n",
              "      <td>2021-05-03 20:48:15</td>\n",
              "      <td>cxEUUweEeFgIfCnVfJ6gyGJ3isA=</td>\n",
              "      <td>False</td>\n",
              "      <td>mobile-iOS</td>\n",
              "      <td>control</td>\n",
              "    </tr>\n",
              "    <tr>\n",
              "      <th>88607</th>\n",
              "      <td>2021-05-03 15:26:01</td>\n",
              "      <td>4uSkNAemotDQOckqi41wk9ZDLn0=</td>\n",
              "      <td>True</td>\n",
              "      <td>mobile-android</td>\n",
              "      <td>control</td>\n",
              "    </tr>\n",
              "    <tr>\n",
              "      <th>88608</th>\n",
              "      <td>2021-05-03 18:07:34</td>\n",
              "      <td>nhH4YUUGj+imHymObEADrKhBgec=</td>\n",
              "      <td>True</td>\n",
              "      <td>mobile-android</td>\n",
              "      <td>alt_b</td>\n",
              "    </tr>\n",
              "  </tbody>\n",
              "</table>\n",
              "</div>\n",
              "      <button class=\"colab-df-convert\" onclick=\"convertToInteractive('df-3e8f6b7f-df8f-402c-b1f2-85c095b9e386')\"\n",
              "              title=\"Convert this dataframe to an interactive table.\"\n",
              "              style=\"display:none;\">\n",
              "        \n",
              "  <svg xmlns=\"http://www.w3.org/2000/svg\" height=\"24px\"viewBox=\"0 0 24 24\"\n",
              "       width=\"24px\">\n",
              "    <path d=\"M0 0h24v24H0V0z\" fill=\"none\"/>\n",
              "    <path d=\"M18.56 5.44l.94 2.06.94-2.06 2.06-.94-2.06-.94-.94-2.06-.94 2.06-2.06.94zm-11 1L8.5 8.5l.94-2.06 2.06-.94-2.06-.94L8.5 2.5l-.94 2.06-2.06.94zm10 10l.94 2.06.94-2.06 2.06-.94-2.06-.94-.94-2.06-.94 2.06-2.06.94z\"/><path d=\"M17.41 7.96l-1.37-1.37c-.4-.4-.92-.59-1.43-.59-.52 0-1.04.2-1.43.59L10.3 9.45l-7.72 7.72c-.78.78-.78 2.05 0 2.83L4 21.41c.39.39.9.59 1.41.59.51 0 1.02-.2 1.41-.59l7.78-7.78 2.81-2.81c.8-.78.8-2.07 0-2.86zM5.41 20L4 18.59l7.72-7.72 1.47 1.35L5.41 20z\"/>\n",
              "  </svg>\n",
              "      </button>\n",
              "      \n",
              "  <style>\n",
              "    .colab-df-container {\n",
              "      display:flex;\n",
              "      flex-wrap:wrap;\n",
              "      gap: 12px;\n",
              "    }\n",
              "\n",
              "    .colab-df-convert {\n",
              "      background-color: #E8F0FE;\n",
              "      border: none;\n",
              "      border-radius: 50%;\n",
              "      cursor: pointer;\n",
              "      display: none;\n",
              "      fill: #1967D2;\n",
              "      height: 32px;\n",
              "      padding: 0 0 0 0;\n",
              "      width: 32px;\n",
              "    }\n",
              "\n",
              "    .colab-df-convert:hover {\n",
              "      background-color: #E2EBFA;\n",
              "      box-shadow: 0px 1px 2px rgba(60, 64, 67, 0.3), 0px 1px 3px 1px rgba(60, 64, 67, 0.15);\n",
              "      fill: #174EA6;\n",
              "    }\n",
              "\n",
              "    [theme=dark] .colab-df-convert {\n",
              "      background-color: #3B4455;\n",
              "      fill: #D2E3FC;\n",
              "    }\n",
              "\n",
              "    [theme=dark] .colab-df-convert:hover {\n",
              "      background-color: #434B5C;\n",
              "      box-shadow: 0px 1px 3px 1px rgba(0, 0, 0, 0.15);\n",
              "      filter: drop-shadow(0px 1px 2px rgba(0, 0, 0, 0.3));\n",
              "      fill: #FFFFFF;\n",
              "    }\n",
              "  </style>\n",
              "\n",
              "      <script>\n",
              "        const buttonEl =\n",
              "          document.querySelector('#df-3e8f6b7f-df8f-402c-b1f2-85c095b9e386 button.colab-df-convert');\n",
              "        buttonEl.style.display =\n",
              "          google.colab.kernel.accessAllowed ? 'block' : 'none';\n",
              "\n",
              "        async function convertToInteractive(key) {\n",
              "          const element = document.querySelector('#df-3e8f6b7f-df8f-402c-b1f2-85c095b9e386');\n",
              "          const dataTable =\n",
              "            await google.colab.kernel.invokeFunction('convertToInteractive',\n",
              "                                                     [key], {});\n",
              "          if (!dataTable) return;\n",
              "\n",
              "          const docLinkHtml = 'Like what you see? Visit the ' +\n",
              "            '<a target=\"_blank\" href=https://colab.research.google.com/notebooks/data_table.ipynb>data table notebook</a>'\n",
              "            + ' to learn more about interactive tables.';\n",
              "          element.innerHTML = '';\n",
              "          dataTable['output_type'] = 'display_data';\n",
              "          await google.colab.output.renderOutput(dataTable, element);\n",
              "          const docLink = document.createElement('div');\n",
              "          docLink.innerHTML = docLinkHtml;\n",
              "          element.appendChild(docLink);\n",
              "        }\n",
              "      </script>\n",
              "    </div>\n",
              "  </div>\n",
              "  "
            ],
            "text/plain": [
              "          event_timestamp                       unit_id  identified  \\\n",
              "88604 2021-05-03 14:26:23  mhg40WMu4R55s7qP+SRcGSFuGv4=       False   \n",
              "88605 2021-05-03 12:44:25  ov4ikC+XujcXPsFfrB/9Plkqze8=        True   \n",
              "88606 2021-05-03 20:48:15  cxEUUweEeFgIfCnVfJ6gyGJ3isA=       False   \n",
              "88607 2021-05-03 15:26:01  4uSkNAemotDQOckqi41wk9ZDLn0=        True   \n",
              "88608 2021-05-03 18:07:34  nhH4YUUGj+imHymObEADrKhBgec=        True   \n",
              "\n",
              "            interface treatment  \n",
              "88604      mobile-iOS     alt_a  \n",
              "88605  mobile-android     alt_a  \n",
              "88606      mobile-iOS   control  \n",
              "88607  mobile-android   control  \n",
              "88608  mobile-android     alt_b  "
            ]
          },
          "execution_count": 6,
          "metadata": {},
          "output_type": "execute_result"
        }
      ],
      "source": [
        "mock_experiment_df.tail()"
      ]
    },
    {
      "cell_type": "code",
      "execution_count": null,
      "metadata": {
        "id": "L5zU-zo3oM0A"
      },
      "outputs": [],
      "source": [
        "# extract dates only\n",
        "mock_experiment_df[\"date\"] = [d.date() for d in mock_experiment_df[\"event_timestamp\"]]\n",
        "mock_homepage_df[\"date\"] = [d.date() for d in mock_homepage_df[\"event_timestamp\"]]"
      ]
    },
    {
      "cell_type": "markdown",
      "metadata": {
        "id": "oeHmfr53pHMB"
      },
      "source": [
        "# Ensure that daily user trends for both interfaces equal\n"
      ]
    },
    {
      "cell_type": "code",
      "execution_count": null,
      "metadata": {
        "id": "Q2isM-5MmGf5"
      },
      "outputs": [],
      "source": [
        "# checking if same pattern for both ios and android\n",
        "ios_df = mock_experiment_df[(mock_experiment_df['interface']=='mobile-iOS') & (mock_experiment_df['treatment']=='alt_a')]\n",
        "android_df = mock_experiment_df[(mock_experiment_df['interface']=='mobile-android') & (mock_experiment_df['treatment']=='alt_a')]\n",
        "\n",
        "daily_users_ios = ios_df.groupby(['date'])['unit_id'].nunique()\n",
        "daily_users_android = android_df.groupby(['date'])['unit_id'].nunique()"
      ]
    },
    {
      "cell_type": "code",
      "execution_count": null,
      "metadata": {
        "colab": {
          "base_uri": "https://localhost:8080/",
          "height": 565
        },
        "id": "28qTDuMFoogM",
        "outputId": "513d35c8-5219-4aaf-91e6-ac61ea4e90d4"
      },
      "outputs": [
        {
          "data": {
            "image/png": "[encoded data removed]",
            "text/plain": [
              "<Figure size 842.4x595.44 with 1 Axes>"
            ]
          },
          "metadata": {},
          "output_type": "display_data"
        }
      ],
      "source": [
        "# Plot daily_subscribers\n",
        "daily_users_ios.plot()\n",
        "\n",
        "# Include a title and y-axis label\n",
        "plt.title('Daily users')\n",
        "plt.ylabel('Number of users')\n",
        "\n",
        "# Rotate the x-axis labels by 45 degrees\n",
        "plt.xticks(rotation = 45)\n",
        "\n",
        "# Display the plot\n",
        "plt.show()"
      ]
    },
    {
      "cell_type": "code",
      "execution_count": null,
      "metadata": {
        "colab": {
          "base_uri": "https://localhost:8080/",
          "height": 565
        },
        "id": "nu_LYH5qowAG",
        "outputId": "e7665243-baf2-4c0c-a6bc-aeb78a787c65"
      },
      "outputs": [
        {
          "data": {
            "image/png": "[encoded data removed]",
            "text/plain": [
              "<Figure size 842.4x595.44 with 1 Axes>"
            ]
          },
          "metadata": {},
          "output_type": "display_data"
        }
      ],
      "source": [
        "# Plot daily_subscribers\n",
        "daily_users_android.plot()\n",
        "\n",
        "# Include a title and y-axis label\n",
        "plt.title('Daily users')\n",
        "plt.ylabel('Number of users')\n",
        "\n",
        "# Rotate the x-axis labels by 45 degrees\n",
        "plt.xticks(rotation = 45)\n",
        "\n",
        "# Display the plot\n",
        "plt.show()"
      ]
    },
    {
      "cell_type": "markdown",
      "metadata": {
        "id": "6znP9RqE5z1z"
      },
      "source": [
        "### Merge the dataframes"
      ]
    },
    {
      "cell_type": "code",
      "execution_count": null,
      "metadata": {
        "id": "FnRo0RDI6dAX"
      },
      "outputs": [],
      "source": [
        "merged_df = pd.merge(mock_experiment_df,mock_homepage_df,how='inner',on='unit_id')\n",
        "\n",
        "# converting event name to boolean values \n",
        "merged_df['Converted'] = np.where(merged_df['event_name'] == 'CONTENTS ENGAGED', True, False)\n"
      ]
    },
    {
      "cell_type": "code",
      "execution_count": null,
      "metadata": {
        "colab": {
          "base_uri": "https://localhost:8080/",
          "height": 357
        },
        "id": "0hMdTftq6sWo",
        "outputId": "00194b21-3785-4a5c-ffe6-786440ae2fb0"
      },
      "outputs": [
        {
          "data": {
            "text/html": [
              "\n",
              "  <div id=\"df-c0241c75-e0b8-4a8c-91cb-c36bc6d41f09\">\n",
              "    <div class=\"colab-df-container\">\n",
              "      <div>\n",
              "<style scoped>\n",
              "    .dataframe tbody tr th:only-of-type {\n",
              "        vertical-align: middle;\n",
              "    }\n",
              "\n",
              "    .dataframe tbody tr th {\n",
              "        vertical-align: top;\n",
              "    }\n",
              "\n",
              "    .dataframe thead th {\n",
              "        text-align: right;\n",
              "    }\n",
              "</style>\n",
              "<table border=\"1\" class=\"dataframe\">\n",
              "  <thead>\n",
              "    <tr style=\"text-align: right;\">\n",
              "      <th></th>\n",
              "      <th>event_timestamp_x</th>\n",
              "      <th>unit_id</th>\n",
              "      <th>identified_x</th>\n",
              "      <th>interface_x</th>\n",
              "      <th>treatment</th>\n",
              "      <th>date_x</th>\n",
              "      <th>event_timestamp_y</th>\n",
              "      <th>identified_y</th>\n",
              "      <th>interface_y</th>\n",
              "      <th>event_name</th>\n",
              "      <th>date_y</th>\n",
              "      <th>Converted</th>\n",
              "    </tr>\n",
              "  </thead>\n",
              "  <tbody>\n",
              "    <tr>\n",
              "      <th>0</th>\n",
              "      <td>2021-05-05 00:33:56</td>\n",
              "      <td>m8wVa7J9I6XLoN6tAM3LZ9NsMu8=</td>\n",
              "      <td>True</td>\n",
              "      <td>mobile-android</td>\n",
              "      <td>alt_a</td>\n",
              "      <td>2021-05-05</td>\n",
              "      <td>2021-05-05 00:44:28</td>\n",
              "      <td>True</td>\n",
              "      <td>mobile-android</td>\n",
              "      <td>CONTENTS SEEN</td>\n",
              "      <td>2021-05-05</td>\n",
              "      <td>False</td>\n",
              "    </tr>\n",
              "    <tr>\n",
              "      <th>1</th>\n",
              "      <td>2021-05-05 00:33:56</td>\n",
              "      <td>m8wVa7J9I6XLoN6tAM3LZ9NsMu8=</td>\n",
              "      <td>True</td>\n",
              "      <td>mobile-android</td>\n",
              "      <td>alt_a</td>\n",
              "      <td>2021-05-05</td>\n",
              "      <td>2021-05-05 00:45:28</td>\n",
              "      <td>True</td>\n",
              "      <td>mobile-android</td>\n",
              "      <td>CONTENTS SEEN</td>\n",
              "      <td>2021-05-05</td>\n",
              "      <td>False</td>\n",
              "    </tr>\n",
              "    <tr>\n",
              "      <th>2</th>\n",
              "      <td>2021-05-04 00:59:04</td>\n",
              "      <td>9RruApLe0crXh53rUU9ljHHyEOY=</td>\n",
              "      <td>True</td>\n",
              "      <td>mobile-android</td>\n",
              "      <td>alt_a</td>\n",
              "      <td>2021-05-04</td>\n",
              "      <td>2021-05-05 04:41:26</td>\n",
              "      <td>True</td>\n",
              "      <td>mobile-android</td>\n",
              "      <td>CONTENTS SEEN</td>\n",
              "      <td>2021-05-05</td>\n",
              "      <td>False</td>\n",
              "    </tr>\n",
              "    <tr>\n",
              "      <th>3</th>\n",
              "      <td>2021-05-05 02:56:30</td>\n",
              "      <td>S0loF0Ph8hDgrYDE9VzKaKvDg6I=</td>\n",
              "      <td>True</td>\n",
              "      <td>mobile-android</td>\n",
              "      <td>alt_a</td>\n",
              "      <td>2021-05-05</td>\n",
              "      <td>2021-05-05 04:10:19</td>\n",
              "      <td>True</td>\n",
              "      <td>mobile-android</td>\n",
              "      <td>CONTENTS SEEN</td>\n",
              "      <td>2021-05-05</td>\n",
              "      <td>False</td>\n",
              "    </tr>\n",
              "    <tr>\n",
              "      <th>4</th>\n",
              "      <td>2021-05-05 02:54:08</td>\n",
              "      <td>S0loF0Ph8hDgrYDE9VzKaKvDg6I=</td>\n",
              "      <td>False</td>\n",
              "      <td>mobile-android</td>\n",
              "      <td>alt_a</td>\n",
              "      <td>2021-05-05</td>\n",
              "      <td>2021-05-05 04:10:19</td>\n",
              "      <td>True</td>\n",
              "      <td>mobile-android</td>\n",
              "      <td>CONTENTS SEEN</td>\n",
              "      <td>2021-05-05</td>\n",
              "      <td>False</td>\n",
              "    </tr>\n",
              "  </tbody>\n",
              "</table>\n",
              "</div>\n",
              "      <button class=\"colab-df-convert\" onclick=\"convertToInteractive('df-c0241c75-e0b8-4a8c-91cb-c36bc6d41f09')\"\n",
              "              title=\"Convert this dataframe to an interactive table.\"\n",
              "              style=\"display:none;\">\n",
              "        \n",
              "  <svg xmlns=\"http://www.w3.org/2000/svg\" height=\"24px\"viewBox=\"0 0 24 24\"\n",
              "       width=\"24px\">\n",
              "    <path d=\"M0 0h24v24H0V0z\" fill=\"none\"/>\n",
              "    <path d=\"M18.56 5.44l.94 2.06.94-2.06 2.06-.94-2.06-.94-.94-2.06-.94 2.06-2.06.94zm-11 1L8.5 8.5l.94-2.06 2.06-.94-2.06-.94L8.5 2.5l-.94 2.06-2.06.94zm10 10l.94 2.06.94-2.06 2.06-.94-2.06-.94-.94-2.06-.94 2.06-2.06.94z\"/><path d=\"M17.41 7.96l-1.37-1.37c-.4-.4-.92-.59-1.43-.59-.52 0-1.04.2-1.43.59L10.3 9.45l-7.72 7.72c-.78.78-.78 2.05 0 2.83L4 21.41c.39.39.9.59 1.41.59.51 0 1.02-.2 1.41-.59l7.78-7.78 2.81-2.81c.8-.78.8-2.07 0-2.86zM5.41 20L4 18.59l7.72-7.72 1.47 1.35L5.41 20z\"/>\n",
              "  </svg>\n",
              "      </button>\n",
              "      \n",
              "  <style>\n",
              "    .colab-df-container {\n",
              "      display:flex;\n",
              "      flex-wrap:wrap;\n",
              "      gap: 12px;\n",
              "    }\n",
              "\n",
              "    .colab-df-convert {\n",
              "      background-color: #E8F0FE;\n",
              "      border: none;\n",
              "      border-radius: 50%;\n",
              "      cursor: pointer;\n",
              "      display: none;\n",
              "      fill: #1967D2;\n",
              "      height: 32px;\n",
              "      padding: 0 0 0 0;\n",
              "      width: 32px;\n",
              "    }\n",
              "\n",
              "    .colab-df-convert:hover {\n",
              "      background-color: #E2EBFA;\n",
              "      box-shadow: 0px 1px 2px rgba(60, 64, 67, 0.3), 0px 1px 3px 1px rgba(60, 64, 67, 0.15);\n",
              "      fill: #174EA6;\n",
              "    }\n",
              "\n",
              "    [theme=dark] .colab-df-convert {\n",
              "      background-color: #3B4455;\n",
              "      fill: #D2E3FC;\n",
              "    }\n",
              "\n",
              "    [theme=dark] .colab-df-convert:hover {\n",
              "      background-color: #434B5C;\n",
              "      box-shadow: 0px 1px 3px 1px rgba(0, 0, 0, 0.15);\n",
              "      filter: drop-shadow(0px 1px 2px rgba(0, 0, 0, 0.3));\n",
              "      fill: #FFFFFF;\n",
              "    }\n",
              "  </style>\n",
              "\n",
              "      <script>\n",
              "        const buttonEl =\n",
              "          document.querySelector('#df-c0241c75-e0b8-4a8c-91cb-c36bc6d41f09 button.colab-df-convert');\n",
              "        buttonEl.style.display =\n",
              "          google.colab.kernel.accessAllowed ? 'block' : 'none';\n",
              "\n",
              "        async function convertToInteractive(key) {\n",
              "          const element = document.querySelector('#df-c0241c75-e0b8-4a8c-91cb-c36bc6d41f09');\n",
              "          const dataTable =\n",
              "            await google.colab.kernel.invokeFunction('convertToInteractive',\n",
              "                                                     [key], {});\n",
              "          if (!dataTable) return;\n",
              "\n",
              "          const docLinkHtml = 'Like what you see? Visit the ' +\n",
              "            '<a target=\"_blank\" href=https://colab.research.google.com/notebooks/data_table.ipynb>data table notebook</a>'\n",
              "            + ' to learn more about interactive tables.';\n",
              "          element.innerHTML = '';\n",
              "          dataTable['output_type'] = 'display_data';\n",
              "          await google.colab.output.renderOutput(dataTable, element);\n",
              "          const docLink = document.createElement('div');\n",
              "          docLink.innerHTML = docLinkHtml;\n",
              "          element.appendChild(docLink);\n",
              "        }\n",
              "      </script>\n",
              "    </div>\n",
              "  </div>\n",
              "  "
            ],
            "text/plain": [
              "    event_timestamp_x                       unit_id  identified_x  \\\n",
              "0 2021-05-05 00:33:56  m8wVa7J9I6XLoN6tAM3LZ9NsMu8=          True   \n",
              "1 2021-05-05 00:33:56  m8wVa7J9I6XLoN6tAM3LZ9NsMu8=          True   \n",
              "2 2021-05-04 00:59:04  9RruApLe0crXh53rUU9ljHHyEOY=          True   \n",
              "3 2021-05-05 02:56:30  S0loF0Ph8hDgrYDE9VzKaKvDg6I=          True   \n",
              "4 2021-05-05 02:54:08  S0loF0Ph8hDgrYDE9VzKaKvDg6I=         False   \n",
              "\n",
              "      interface_x treatment      date_x   event_timestamp_y  identified_y  \\\n",
              "0  mobile-android     alt_a  2021-05-05 2021-05-05 00:44:28          True   \n",
              "1  mobile-android     alt_a  2021-05-05 2021-05-05 00:45:28          True   \n",
              "2  mobile-android     alt_a  2021-05-04 2021-05-05 04:41:26          True   \n",
              "3  mobile-android     alt_a  2021-05-05 2021-05-05 04:10:19          True   \n",
              "4  mobile-android     alt_a  2021-05-05 2021-05-05 04:10:19          True   \n",
              "\n",
              "      interface_y     event_name      date_y  Converted  \n",
              "0  mobile-android  CONTENTS SEEN  2021-05-05      False  \n",
              "1  mobile-android  CONTENTS SEEN  2021-05-05      False  \n",
              "2  mobile-android  CONTENTS SEEN  2021-05-05      False  \n",
              "3  mobile-android  CONTENTS SEEN  2021-05-05      False  \n",
              "4  mobile-android  CONTENTS SEEN  2021-05-05      False  "
            ]
          },
          "execution_count": 12,
          "metadata": {},
          "output_type": "execute_result"
        }
      ],
      "source": [
        "merged_df.head()"
      ]
    },
    {
      "cell_type": "markdown",
      "metadata": {
        "id": "S3AoLzCb2-p_"
      },
      "source": [
        "### Engagement difference between interface"
      ]
    },
    {
      "cell_type": "code",
      "execution_count": null,
      "metadata": {
        "id": "LI_PGwuG1yZC"
      },
      "outputs": [],
      "source": [
        "total = mock_homepage_df.groupby(['interface'])['unit_id'].nunique()\n",
        "\n",
        "converted = mock_homepage_df[mock_homepage_df['event_name'] == 'CONTENTS ENGAGED']\\\n",
        "                       .groupby(['interface'])\\\n",
        "                       ['unit_id'].nunique()\n",
        "\n",
        "interface_rate = converted/total * 100"
      ]
    },
    {
      "cell_type": "code",
      "execution_count": null,
      "metadata": {
        "colab": {
          "base_uri": "https://localhost:8080/",
          "height": 609
        },
        "id": "6Aqiyq3h-jUJ",
        "outputId": "e96569ce-cbaa-4fe3-9fb4-b8f98a825b99"
      },
      "outputs": [
        {
          "data": {
            "text/plain": [
              "<matplotlib.axes._subplots.AxesSubplot at 0x7ff991a66e10>"
            ]
          },
          "execution_count": 14,
          "metadata": {},
          "output_type": "execute_result"
        },
        {
          "data": {
            "image/png": "[encoded data removed]",
            "text/plain": [
              "<Figure size 842.4x595.44 with 1 Axes>"
            ]
          },
          "metadata": {},
          "output_type": "display_data"
        }
      ],
      "source": [
        "interface_rate.plot(kind='bar')"
      ]
    },
    {
      "cell_type": "markdown",
      "metadata": {
        "id": "Ez4I_kGp3KKG"
      },
      "source": [
        "### Engagement difference between algo\n"
      ]
    },
    {
      "cell_type": "code",
      "execution_count": null,
      "metadata": {
        "id": "c0yUezqZ3HJ6"
      },
      "outputs": [],
      "source": [
        "total = merged_df.groupby(['treatment'])['unit_id'].nunique()\n",
        "\n",
        "converted = merged_df[merged_df['event_name'] == 'CONTENTS ENGAGED']\\\n",
        "                              .groupby(['treatment'])\\\n",
        "                              ['unit_id'].nunique()\n",
        "\n",
        "algo_rate = converted/total * 100                       "
      ]
    },
    {
      "cell_type": "code",
      "execution_count": null,
      "metadata": {
        "colab": {
          "base_uri": "https://localhost:8080/",
          "height": 563
        },
        "id": "fPyBlo1LD1jX",
        "outputId": "824da92a-f10f-4fd3-9f52-774edb7b7a63"
      },
      "outputs": [
        {
          "data": {
            "text/plain": [
              "<matplotlib.axes._subplots.AxesSubplot at 0x7ff9919f8410>"
            ]
          },
          "execution_count": 16,
          "metadata": {},
          "output_type": "execute_result"
        },
        {
          "data": {
            "image/png": "[encoded data removed]",
            "text/plain": [
              "<Figure size 842.4x595.44 with 1 Axes>"
            ]
          },
          "metadata": {},
          "output_type": "display_data"
        }
      ],
      "source": [
        "algo_rate.plot(kind='bar')"
      ]
    },
    {
      "cell_type": "markdown",
      "metadata": {
        "id": "4ivdDWxqt2W8"
      },
      "source": [
        "### Engagement rate on different dates"
      ]
    },
    {
      "cell_type": "code",
      "execution_count": null,
      "metadata": {
        "id": "cl3vsGYkuCI2"
      },
      "outputs": [],
      "source": [
        "total = merged_df.groupby(['date_y'])['unit_id'].nunique()\n",
        "\n",
        "converted = merged_df[merged_df['event_name'] == 'CONTENTS ENGAGED']\\\n",
        "                              .groupby(['date_y'])\\\n",
        "                              ['unit_id'].nunique()\n",
        "\n",
        "date_rate = converted/total * 100               "
      ]
    },
    {
      "cell_type": "code",
      "execution_count": null,
      "metadata": {
        "colab": {
          "base_uri": "https://localhost:8080/",
          "height": 589
        },
        "id": "yKQ3MblouPLf",
        "outputId": "5a51f2d0-6210-4427-e2b3-65eafa9408e9"
      },
      "outputs": [
        {
          "data": {
            "text/plain": [
              "<matplotlib.axes._subplots.AxesSubplot at 0x7ff9918a9cd0>"
            ]
          },
          "execution_count": 18,
          "metadata": {},
          "output_type": "execute_result"
        },
        {
          "data": {
            "image/png": "[encoded data removed]",
            "text/plain": [
              "<Figure size 842.4x595.44 with 1 Axes>"
            ]
          },
          "metadata": {},
          "output_type": "display_data"
        }
      ],
      "source": [
        "date_rate.plot(kind='bar')"
      ]
    },
    {
      "cell_type": "markdown",
      "metadata": {
        "id": "U8in8ih99uKS"
      },
      "source": [
        "### Engagement rate between date and treatment\n",
        "\n"
      ]
    },
    {
      "cell_type": "code",
      "execution_count": null,
      "metadata": {
        "id": "ij7vtrll83dK"
      },
      "outputs": [],
      "source": [
        "total = merged_df.groupby(['date_y','treatment'])['unit_id'].nunique()\n",
        "\n",
        "\n",
        "converted = merged_df[merged_df['event_name'] == 'CONTENTS ENGAGED']\\\n",
        "                              .groupby(['date_y','treatment'])\\\n",
        "                              ['unit_id'].nunique()\n",
        "\n",
        "# Calculate the conversion rate per day\n",
        "daily_conversion_rate = converted/total * 100\n",
        "daily_df = pd.DataFrame(daily_conversion_rate)\n",
        "daily_df = daily_df.reset_index(level=[0,1])"
      ]
    },
    {
      "cell_type": "code",
      "execution_count": null,
      "metadata": {
        "colab": {
          "base_uri": "https://localhost:8080/",
          "height": 640
        },
        "id": "7sG5dxvqBwa-",
        "outputId": "e8225ed8-6455-49af-ac5c-eb8da8259aaf"
      },
      "outputs": [
        {
          "data": {
            "text/plain": [
              "(array([ 0,  1,  2,  3,  4,  5,  6,  7,  8,  9, 10, 11, 12, 13, 14, 15, 16,\n",
              "        17, 18, 19, 20, 21, 22, 23, 24, 25, 26, 27]),\n",
              " <a list of 28 Text major ticklabel objects>)"
            ]
          },
          "execution_count": 20,
          "metadata": {},
          "output_type": "execute_result"
        },
        {
          "data": {
            "image/png": "[encoded data removed]",
            "text/plain": [
              "<Figure size 842.4x595.44 with 1 Axes>"
            ]
          },
          "metadata": {},
          "output_type": "display_data"
        }
      ],
      "source": [
        "ax = sns.barplot(x='date_y',y='unit_id',hue='treatment',data=daily_df)\n",
        "ax.set(title='Engagement rate for each algorithim in different dates')\n",
        "plt.xticks(rotation=70)"
      ]
    },
    {
      "cell_type": "markdown",
      "metadata": {
        "id": "9HwRWNyTvHc2"
      },
      "source": [
        "### allocation of algorithims on different dates"
      ]
    },
    {
      "cell_type": "code",
      "execution_count": null,
      "metadata": {
        "id": "QxW2fCGqvN9g"
      },
      "outputs": [],
      "source": [
        "dates = merged_df.groupby(['date_y','treatment'])['unit_id'].nunique()\n",
        "dates_df = pd.DataFrame(dates)\n",
        "dates_df = dates_df.reset_index(level=[0,1])"
      ]
    },
    {
      "cell_type": "code",
      "execution_count": null,
      "metadata": {
        "colab": {
          "base_uri": "https://localhost:8080/",
          "height": 640
        },
        "id": "yxH_5ASlvjp0",
        "outputId": "fd1b439d-ddbd-4e94-a141-bba6a0c9969a"
      },
      "outputs": [
        {
          "data": {
            "text/plain": [
              "(array([ 0,  1,  2,  3,  4,  5,  6,  7,  8,  9, 10, 11, 12, 13, 14, 15, 16,\n",
              "        17, 18, 19, 20, 21, 22, 23, 24, 25, 26, 27]),\n",
              " <a list of 28 Text major ticklabel objects>)"
            ]
          },
          "execution_count": 22,
          "metadata": {},
          "output_type": "execute_result"
        },
        {
          "data": {
            "image/png": "[encoded data removed]",
            "text/plain": [
              "<Figure size 842.4x595.44 with 1 Axes>"
            ]
          },
          "metadata": {},
          "output_type": "display_data"
        }
      ],
      "source": [
        "ax = sns.barplot(x='date_y',y='unit_id',hue='treatment',data=dates_df)\n",
        "ax.set(title='Allocation for each algorithim in different dates')\n",
        "plt.xticks(rotation=70)"
      ]
    },
    {
      "cell_type": "markdown",
      "metadata": {
        "id": "m6SSezluExWk"
      },
      "source": [
        "### Engagement rate between difference in algo and interface"
      ]
    },
    {
      "cell_type": "code",
      "execution_count": null,
      "metadata": {
        "id": "yTKT-IxAEw2J"
      },
      "outputs": [],
      "source": [
        "total = merged_df.groupby(['interface_y','treatment'])['unit_id'].nunique()\n",
        "\n",
        "\n",
        "converted = merged_df[merged_df['event_name'] == 'CONTENTS ENGAGED']\\\n",
        "                              .groupby(['interface_y','treatment'])\\\n",
        "                              ['unit_id'].nunique()\n",
        "\n",
        "# Calculate the conversion rate per day\n",
        "interface_algo_conversion_rate = converted/total * 100\n",
        "interface_algo_df = pd.DataFrame(interface_algo_conversion_rate)\n",
        "interface_algo_df = interface_algo_df.reset_index(level=[0,1])"
      ]
    },
    {
      "cell_type": "code",
      "execution_count": null,
      "metadata": {
        "colab": {
          "base_uri": "https://localhost:8080/",
          "height": 517
        },
        "id": "QiR0-nVYFdeT",
        "outputId": "fc22cbaf-ea2b-4197-b910-be4b15c9f65f"
      },
      "outputs": [
        {
          "data": {
            "image/png": "[encoded data removed]",
            "text/plain": [
              "<Figure size 842.4x595.44 with 1 Axes>"
            ]
          },
          "metadata": {},
          "output_type": "display_data"
        }
      ],
      "source": [
        "ax = sns.barplot(x='interface_y',y='unit_id',hue='treatment',data=interface_algo_df)"
      ]
    },
    {
      "cell_type": "markdown",
      "metadata": {
        "id": "yfbk6DUHdb0M"
      },
      "source": [
        "# Engagement between login states\n",
        "\n",
        "Noticable difference between conversion rate between Users that are logged in vs users that are not\n",
        "\n",
        "\n",
        "\n"
      ]
    },
    {
      "cell_type": "code",
      "execution_count": null,
      "metadata": {
        "id": "Z8Zwh87vdgQy"
      },
      "outputs": [],
      "source": [
        "total = merged_df.groupby(['identified_y'])['unit_id'].nunique()\n",
        "\n",
        "\n",
        "converted = merged_df[merged_df['event_name'] == 'CONTENTS ENGAGED']\\\n",
        "                              .groupby(['identified_y'])\\\n",
        "                              ['unit_id'].nunique()\n",
        "\n",
        "# Calculate the conversion rate per day\n",
        "login_conversion_rate = converted/total * 100"
      ]
    },
    {
      "cell_type": "code",
      "execution_count": null,
      "metadata": {
        "colab": {
          "base_uri": "https://localhost:8080/",
          "height": 553
        },
        "id": "S58nwUuGeciV",
        "outputId": "da18e9a7-ef5b-477d-cf9e-81c6d9621ab7"
      },
      "outputs": [
        {
          "data": {
            "text/plain": [
              "<matplotlib.axes._subplots.AxesSubplot at 0x7ff9911bd9d0>"
            ]
          },
          "execution_count": 26,
          "metadata": {},
          "output_type": "execute_result"
        },
        {
          "data": {
            "image/png": "[encoded data removed]",
            "text/plain": [
              "<Figure size 842.4x595.44 with 1 Axes>"
            ]
          },
          "metadata": {},
          "output_type": "display_data"
        }
      ],
      "source": [
        "login_conversion_rate.plot(kind='bar')"
      ]
    },
    {
      "cell_type": "markdown",
      "metadata": {
        "id": "dZ0aZOMoLPuB"
      },
      "source": [
        "As the number of logged in users are overwhemingly true, we can just filter out users that are not logged in"
      ]
    },
    {
      "cell_type": "code",
      "execution_count": null,
      "metadata": {
        "colab": {
          "base_uri": "https://localhost:8080/",
          "height": 536
        },
        "id": "39xi8MKBgWMc",
        "outputId": "40425c07-14cd-42aa-b793-2f12555883f2"
      },
      "outputs": [
        {
          "data": {
            "text/plain": [
              "<matplotlib.axes._subplots.AxesSubplot at 0x7ff991a36cd0>"
            ]
          },
          "execution_count": 27,
          "metadata": {},
          "output_type": "execute_result"
        },
        {
          "data": {
            "image/png": "[encoded data removed]",
            "text/plain": [
              "<Figure size 842.4x595.44 with 1 Axes>"
            ]
          },
          "metadata": {},
          "output_type": "display_data"
        }
      ],
      "source": [
        "merged_df['identified_y'].value_counts().plot(kind='bar')"
      ]
    },
    {
      "cell_type": "markdown",
      "metadata": {
        "id": "pnoDA6E2hHyJ"
      },
      "source": [
        "# How are algorithims allocated between logged in users ?"
      ]
    },
    {
      "cell_type": "code",
      "execution_count": null,
      "metadata": {
        "id": "-M-jtcM0hujk"
      },
      "outputs": [],
      "source": [
        "identified_total = merged_df.groupby(['identified_y','treatment'])['unit_id'].nunique()\n",
        "identified_total_df = pd.DataFrame(identified_total)\n",
        "identified_total_df = identified_total_df.reset_index(level=[0,1])"
      ]
    },
    {
      "cell_type": "code",
      "execution_count": null,
      "metadata": {
        "colab": {
          "base_uri": "https://localhost:8080/",
          "height": 533
        },
        "id": "XklyE0C9imOU",
        "outputId": "01a80597-a88a-4de3-9405-0649335ae993"
      },
      "outputs": [
        {
          "data": {
            "image/png": "[encoded data removed]",
            "text/plain": [
              "<Figure size 842.4x595.44 with 1 Axes>"
            ]
          },
          "metadata": {},
          "output_type": "display_data"
        }
      ],
      "source": [
        "ax = sns.barplot(x='identified_y',y='unit_id',hue='treatment',data=identified_total_df).set(title='Algorithims allocated between login states')"
      ]
    },
    {
      "cell_type": "markdown",
      "metadata": {
        "id": "z9FDRKgtLKX5"
      },
      "source": [
        "# How are the algorithims allocatted amongst different interfaces ?"
      ]
    },
    {
      "cell_type": "code",
      "execution_count": null,
      "metadata": {
        "colab": {
          "base_uri": "https://localhost:8080/",
          "height": 561
        },
        "id": "9ILAX0uBLNM5",
        "outputId": "fa6bbbaa-a6fc-4f1f-c50e-2a39cd391454"
      },
      "outputs": [
        {
          "data": {
            "image/png": "[encoded data removed]",
            "text/plain": [
              "<Figure size 842.4x595.44 with 1 Axes>"
            ]
          },
          "metadata": {},
          "output_type": "display_data"
        }
      ],
      "source": [
        "# Subset the DataFrame\n",
        "ios_df = merged_df[merged_df['interface_y'] == 'mobile-iOS']\n",
        "\n",
        "\n",
        "alloc = ios_df.groupby(['treatment'])['unit_id'].nunique()\n",
        "\n",
        "\n",
        "alloc.plot(kind='bar')\n",
        "plt.title('IOS treatment allocation')\n",
        "plt.ylabel('# participants')\n",
        "plt.show()"
      ]
    },
    {
      "cell_type": "code",
      "execution_count": null,
      "metadata": {
        "colab": {
          "base_uri": "https://localhost:8080/",
          "height": 561
        },
        "id": "7xk_kiKULsWf",
        "outputId": "9c26cad4-956a-46e5-a645-1d2e2b9ff322"
      },
      "outputs": [
        {
          "data": {
            "image/png": "[encoded data removed]",
            "text/plain": [
              "<Figure size 842.4x595.44 with 1 Axes>"
            ]
          },
          "metadata": {},
          "output_type": "display_data"
        }
      ],
      "source": [
        "android_df = merged_df[merged_df['interface_y'] == 'mobile-android']\n",
        "\n",
        "\n",
        "alloc = android_df.groupby(['treatment'])['unit_id'].nunique()\n",
        "\n",
        "\n",
        "alloc.plot(kind='bar')\n",
        "plt.title('android treatment allocation')\n",
        "plt.ylabel('# participants')\n",
        "plt.show()"
      ]
    },
    {
      "cell_type": "markdown",
      "metadata": {
        "id": "8wyOCJ-b7o94"
      },
      "source": [
        "# get overview of our data"
      ]
    },
    {
      "cell_type": "code",
      "execution_count": null,
      "metadata": {
        "id": "_D04rynj7tN-"
      },
      "outputs": [],
      "source": [
        "total = merged_df.groupby(['interface_y','treatment'])['unit_id'].nunique()\n",
        "\n",
        "\n",
        "converted = merged_df[merged_df['event_name'] == 'CONTENTS ENGAGED']\\\n",
        "                              .groupby(['interface_y','treatment'])\\\n",
        "                              ['unit_id'].nunique()\n",
        "\n",
        "# Calculate the conversion rate per day\n",
        "total_df = total.reset_index(level=[0,1])\n",
        "total_df['total'] = total_df['unit_id']\n",
        "interface_algo_conversion_rate = converted\n",
        "interface_algo_df = pd.DataFrame(interface_algo_conversion_rate)\n",
        "interface_algo_df = interface_algo_df.reset_index(level=[0,1])\n",
        "interface_algo_df['total_unit_id'] = total_df['total']\n",
        "interface_algo_df['conversion_rate'] = round((interface_algo_df['unit_id'] / interface_algo_df['total_unit_id']) * 100,2)\n",
        "interface_algo_df.rename(columns = {'unit_id':'converted_unit_id'}, inplace = True)\n"
      ]
    },
    {
      "cell_type": "code",
      "execution_count": null,
      "metadata": {
        "colab": {
          "base_uri": "https://localhost:8080/",
          "height": 238
        },
        "id": "0KdNFWyn7vSP",
        "outputId": "ac59893c-bc70-4a37-c985-03b496c6fd11"
      },
      "outputs": [
        {
          "data": {
            "text/html": [
              "\n",
              "  <div id=\"df-1614150e-8691-4663-93c0-6f1d5efc108d\">\n",
              "    <div class=\"colab-df-container\">\n",
              "      <div>\n",
              "<style scoped>\n",
              "    .dataframe tbody tr th:only-of-type {\n",
              "        vertical-align: middle;\n",
              "    }\n",
              "\n",
              "    .dataframe tbody tr th {\n",
              "        vertical-align: top;\n",
              "    }\n",
              "\n",
              "    .dataframe thead th {\n",
              "        text-align: right;\n",
              "    }\n",
              "</style>\n",
              "<table border=\"1\" class=\"dataframe\">\n",
              "  <thead>\n",
              "    <tr style=\"text-align: right;\">\n",
              "      <th></th>\n",
              "      <th>interface_y</th>\n",
              "      <th>treatment</th>\n",
              "      <th>converted_unit_id</th>\n",
              "      <th>total_unit_id</th>\n",
              "      <th>conversion_rate</th>\n",
              "    </tr>\n",
              "  </thead>\n",
              "  <tbody>\n",
              "    <tr>\n",
              "      <th>0</th>\n",
              "      <td>mobile-android</td>\n",
              "      <td>alt_a</td>\n",
              "      <td>870</td>\n",
              "      <td>8618</td>\n",
              "      <td>10.10</td>\n",
              "    </tr>\n",
              "    <tr>\n",
              "      <th>1</th>\n",
              "      <td>mobile-android</td>\n",
              "      <td>alt_b</td>\n",
              "      <td>785</td>\n",
              "      <td>8696</td>\n",
              "      <td>9.03</td>\n",
              "    </tr>\n",
              "    <tr>\n",
              "      <th>2</th>\n",
              "      <td>mobile-android</td>\n",
              "      <td>control</td>\n",
              "      <td>515</td>\n",
              "      <td>9471</td>\n",
              "      <td>5.44</td>\n",
              "    </tr>\n",
              "    <tr>\n",
              "      <th>3</th>\n",
              "      <td>mobile-iOS</td>\n",
              "      <td>alt_a</td>\n",
              "      <td>243</td>\n",
              "      <td>2175</td>\n",
              "      <td>11.17</td>\n",
              "    </tr>\n",
              "    <tr>\n",
              "      <th>4</th>\n",
              "      <td>mobile-iOS</td>\n",
              "      <td>alt_b</td>\n",
              "      <td>208</td>\n",
              "      <td>2163</td>\n",
              "      <td>9.62</td>\n",
              "    </tr>\n",
              "    <tr>\n",
              "      <th>5</th>\n",
              "      <td>mobile-iOS</td>\n",
              "      <td>control</td>\n",
              "      <td>129</td>\n",
              "      <td>2322</td>\n",
              "      <td>5.56</td>\n",
              "    </tr>\n",
              "  </tbody>\n",
              "</table>\n",
              "</div>\n",
              "      <button class=\"colab-df-convert\" onclick=\"convertToInteractive('df-1614150e-8691-4663-93c0-6f1d5efc108d')\"\n",
              "              title=\"Convert this dataframe to an interactive table.\"\n",
              "              style=\"display:none;\">\n",
              "        \n",
              "  <svg xmlns=\"http://www.w3.org/2000/svg\" height=\"24px\"viewBox=\"0 0 24 24\"\n",
              "       width=\"24px\">\n",
              "    <path d=\"M0 0h24v24H0V0z\" fill=\"none\"/>\n",
              "    <path d=\"M18.56 5.44l.94 2.06.94-2.06 2.06-.94-2.06-.94-.94-2.06-.94 2.06-2.06.94zm-11 1L8.5 8.5l.94-2.06 2.06-.94-2.06-.94L8.5 2.5l-.94 2.06-2.06.94zm10 10l.94 2.06.94-2.06 2.06-.94-2.06-.94-.94-2.06-.94 2.06-2.06.94z\"/><path d=\"M17.41 7.96l-1.37-1.37c-.4-.4-.92-.59-1.43-.59-.52 0-1.04.2-1.43.59L10.3 9.45l-7.72 7.72c-.78.78-.78 2.05 0 2.83L4 21.41c.39.39.9.59 1.41.59.51 0 1.02-.2 1.41-.59l7.78-7.78 2.81-2.81c.8-.78.8-2.07 0-2.86zM5.41 20L4 18.59l7.72-7.72 1.47 1.35L5.41 20z\"/>\n",
              "  </svg>\n",
              "      </button>\n",
              "      \n",
              "  <style>\n",
              "    .colab-df-container {\n",
              "      display:flex;\n",
              "      flex-wrap:wrap;\n",
              "      gap: 12px;\n",
              "    }\n",
              "\n",
              "    .colab-df-convert {\n",
              "      background-color: #E8F0FE;\n",
              "      border: none;\n",
              "      border-radius: 50%;\n",
              "      cursor: pointer;\n",
              "      display: none;\n",
              "      fill: #1967D2;\n",
              "      height: 32px;\n",
              "      padding: 0 0 0 0;\n",
              "      width: 32px;\n",
              "    }\n",
              "\n",
              "    .colab-df-convert:hover {\n",
              "      background-color: #E2EBFA;\n",
              "      box-shadow: 0px 1px 2px rgba(60, 64, 67, 0.3), 0px 1px 3px 1px rgba(60, 64, 67, 0.15);\n",
              "      fill: #174EA6;\n",
              "    }\n",
              "\n",
              "    [theme=dark] .colab-df-convert {\n",
              "      background-color: #3B4455;\n",
              "      fill: #D2E3FC;\n",
              "    }\n",
              "\n",
              "    [theme=dark] .colab-df-convert:hover {\n",
              "      background-color: #434B5C;\n",
              "      box-shadow: 0px 1px 3px 1px rgba(0, 0, 0, 0.15);\n",
              "      filter: drop-shadow(0px 1px 2px rgba(0, 0, 0, 0.3));\n",
              "      fill: #FFFFFF;\n",
              "    }\n",
              "  </style>\n",
              "\n",
              "      <script>\n",
              "        const buttonEl =\n",
              "          document.querySelector('#df-1614150e-8691-4663-93c0-6f1d5efc108d button.colab-df-convert');\n",
              "        buttonEl.style.display =\n",
              "          google.colab.kernel.accessAllowed ? 'block' : 'none';\n",
              "\n",
              "        async function convertToInteractive(key) {\n",
              "          const element = document.querySelector('#df-1614150e-8691-4663-93c0-6f1d5efc108d');\n",
              "          const dataTable =\n",
              "            await google.colab.kernel.invokeFunction('convertToInteractive',\n",
              "                                                     [key], {});\n",
              "          if (!dataTable) return;\n",
              "\n",
              "          const docLinkHtml = 'Like what you see? Visit the ' +\n",
              "            '<a target=\"_blank\" href=https://colab.research.google.com/notebooks/data_table.ipynb>data table notebook</a>'\n",
              "            + ' to learn more about interactive tables.';\n",
              "          element.innerHTML = '';\n",
              "          dataTable['output_type'] = 'display_data';\n",
              "          await google.colab.output.renderOutput(dataTable, element);\n",
              "          const docLink = document.createElement('div');\n",
              "          docLink.innerHTML = docLinkHtml;\n",
              "          element.appendChild(docLink);\n",
              "        }\n",
              "      </script>\n",
              "    </div>\n",
              "  </div>\n",
              "  "
            ],
            "text/plain": [
              "      interface_y treatment  converted_unit_id  total_unit_id  conversion_rate\n",
              "0  mobile-android     alt_a                870           8618            10.10\n",
              "1  mobile-android     alt_b                785           8696             9.03\n",
              "2  mobile-android   control                515           9471             5.44\n",
              "3      mobile-iOS     alt_a                243           2175            11.17\n",
              "4      mobile-iOS     alt_b                208           2163             9.62\n",
              "5      mobile-iOS   control                129           2322             5.56"
            ]
          },
          "execution_count": 33,
          "metadata": {},
          "output_type": "execute_result"
        }
      ],
      "source": [
        "interface_algo_df"
      ]
    },
    {
      "cell_type": "markdown",
      "metadata": {
        "id": "LnU5KuXbxvjF"
      },
      "source": [
        "## Remove possible confounding factors\n",
        "\n",
        "As there are slight variations to allocation of algorithims past certain dates and engagement rate on login state. We will control these factors by restricting it to certain dates and only using login == True"
      ]
    },
    {
      "cell_type": "code",
      "execution_count": null,
      "metadata": {
        "id": "qDCca3Gtx_Bs"
      },
      "outputs": [],
      "source": [
        "merged_df['date_y'] =  pd.to_datetime(merged_df['date_y']) # convert to date time\n",
        "\n",
        "cleaned_df = merged_df.loc[merged_df.date_y.between('2021-05-03','2021-05-06')] # restrict to these dates \n",
        "\n",
        "cleaned_df = cleaned_df[(cleaned_df['identified_y'] == True)] # only logged in users\n",
        "\n",
        "cleaned_df = cleaned_df[['date_y','unit_id','treatment','event_name','interface_y','Converted']]"
      ]
    },
    {
      "cell_type": "code",
      "execution_count": null,
      "metadata": {
        "colab": {
          "base_uri": "https://localhost:8080/",
          "height": 206
        },
        "id": "EOkUheXJzwuG",
        "outputId": "61fc75e8-e5a9-40e9-bee0-b1f09b65084d"
      },
      "outputs": [
        {
          "data": {
            "text/html": [
              "\n",
              "  <div id=\"df-37ff4b38-36ae-48ea-9b62-bf697a91b49b\">\n",
              "    <div class=\"colab-df-container\">\n",
              "      <div>\n",
              "<style scoped>\n",
              "    .dataframe tbody tr th:only-of-type {\n",
              "        vertical-align: middle;\n",
              "    }\n",
              "\n",
              "    .dataframe tbody tr th {\n",
              "        vertical-align: top;\n",
              "    }\n",
              "\n",
              "    .dataframe thead th {\n",
              "        text-align: right;\n",
              "    }\n",
              "</style>\n",
              "<table border=\"1\" class=\"dataframe\">\n",
              "  <thead>\n",
              "    <tr style=\"text-align: right;\">\n",
              "      <th></th>\n",
              "      <th>date_y</th>\n",
              "      <th>unit_id</th>\n",
              "      <th>treatment</th>\n",
              "      <th>event_name</th>\n",
              "      <th>interface_y</th>\n",
              "      <th>Converted</th>\n",
              "    </tr>\n",
              "  </thead>\n",
              "  <tbody>\n",
              "    <tr>\n",
              "      <th>0</th>\n",
              "      <td>2021-05-05</td>\n",
              "      <td>m8wVa7J9I6XLoN6tAM3LZ9NsMu8=</td>\n",
              "      <td>alt_a</td>\n",
              "      <td>CONTENTS SEEN</td>\n",
              "      <td>mobile-android</td>\n",
              "      <td>False</td>\n",
              "    </tr>\n",
              "    <tr>\n",
              "      <th>1</th>\n",
              "      <td>2021-05-05</td>\n",
              "      <td>m8wVa7J9I6XLoN6tAM3LZ9NsMu8=</td>\n",
              "      <td>alt_a</td>\n",
              "      <td>CONTENTS SEEN</td>\n",
              "      <td>mobile-android</td>\n",
              "      <td>False</td>\n",
              "    </tr>\n",
              "    <tr>\n",
              "      <th>2</th>\n",
              "      <td>2021-05-05</td>\n",
              "      <td>9RruApLe0crXh53rUU9ljHHyEOY=</td>\n",
              "      <td>alt_a</td>\n",
              "      <td>CONTENTS SEEN</td>\n",
              "      <td>mobile-android</td>\n",
              "      <td>False</td>\n",
              "    </tr>\n",
              "    <tr>\n",
              "      <th>3</th>\n",
              "      <td>2021-05-05</td>\n",
              "      <td>S0loF0Ph8hDgrYDE9VzKaKvDg6I=</td>\n",
              "      <td>alt_a</td>\n",
              "      <td>CONTENTS SEEN</td>\n",
              "      <td>mobile-android</td>\n",
              "      <td>False</td>\n",
              "    </tr>\n",
              "    <tr>\n",
              "      <th>4</th>\n",
              "      <td>2021-05-05</td>\n",
              "      <td>S0loF0Ph8hDgrYDE9VzKaKvDg6I=</td>\n",
              "      <td>alt_a</td>\n",
              "      <td>CONTENTS SEEN</td>\n",
              "      <td>mobile-android</td>\n",
              "      <td>False</td>\n",
              "    </tr>\n",
              "  </tbody>\n",
              "</table>\n",
              "</div>\n",
              "      <button class=\"colab-df-convert\" onclick=\"convertToInteractive('df-37ff4b38-36ae-48ea-9b62-bf697a91b49b')\"\n",
              "              title=\"Convert this dataframe to an interactive table.\"\n",
              "              style=\"display:none;\">\n",
              "        \n",
              "  <svg xmlns=\"http://www.w3.org/2000/svg\" height=\"24px\"viewBox=\"0 0 24 24\"\n",
              "       width=\"24px\">\n",
              "    <path d=\"M0 0h24v24H0V0z\" fill=\"none\"/>\n",
              "    <path d=\"M18.56 5.44l.94 2.06.94-2.06 2.06-.94-2.06-.94-.94-2.06-.94 2.06-2.06.94zm-11 1L8.5 8.5l.94-2.06 2.06-.94-2.06-.94L8.5 2.5l-.94 2.06-2.06.94zm10 10l.94 2.06.94-2.06 2.06-.94-2.06-.94-.94-2.06-.94 2.06-2.06.94z\"/><path d=\"M17.41 7.96l-1.37-1.37c-.4-.4-.92-.59-1.43-.59-.52 0-1.04.2-1.43.59L10.3 9.45l-7.72 7.72c-.78.78-.78 2.05 0 2.83L4 21.41c.39.39.9.59 1.41.59.51 0 1.02-.2 1.41-.59l7.78-7.78 2.81-2.81c.8-.78.8-2.07 0-2.86zM5.41 20L4 18.59l7.72-7.72 1.47 1.35L5.41 20z\"/>\n",
              "  </svg>\n",
              "      </button>\n",
              "      \n",
              "  <style>\n",
              "    .colab-df-container {\n",
              "      display:flex;\n",
              "      flex-wrap:wrap;\n",
              "      gap: 12px;\n",
              "    }\n",
              "\n",
              "    .colab-df-convert {\n",
              "      background-color: #E8F0FE;\n",
              "      border: none;\n",
              "      border-radius: 50%;\n",
              "      cursor: pointer;\n",
              "      display: none;\n",
              "      fill: #1967D2;\n",
              "      height: 32px;\n",
              "      padding: 0 0 0 0;\n",
              "      width: 32px;\n",
              "    }\n",
              "\n",
              "    .colab-df-convert:hover {\n",
              "      background-color: #E2EBFA;\n",
              "      box-shadow: 0px 1px 2px rgba(60, 64, 67, 0.3), 0px 1px 3px 1px rgba(60, 64, 67, 0.15);\n",
              "      fill: #174EA6;\n",
              "    }\n",
              "\n",
              "    [theme=dark] .colab-df-convert {\n",
              "      background-color: #3B4455;\n",
              "      fill: #D2E3FC;\n",
              "    }\n",
              "\n",
              "    [theme=dark] .colab-df-convert:hover {\n",
              "      background-color: #434B5C;\n",
              "      box-shadow: 0px 1px 3px 1px rgba(0, 0, 0, 0.15);\n",
              "      filter: drop-shadow(0px 1px 2px rgba(0, 0, 0, 0.3));\n",
              "      fill: #FFFFFF;\n",
              "    }\n",
              "  </style>\n",
              "\n",
              "      <script>\n",
              "        const buttonEl =\n",
              "          document.querySelector('#df-37ff4b38-36ae-48ea-9b62-bf697a91b49b button.colab-df-convert');\n",
              "        buttonEl.style.display =\n",
              "          google.colab.kernel.accessAllowed ? 'block' : 'none';\n",
              "\n",
              "        async function convertToInteractive(key) {\n",
              "          const element = document.querySelector('#df-37ff4b38-36ae-48ea-9b62-bf697a91b49b');\n",
              "          const dataTable =\n",
              "            await google.colab.kernel.invokeFunction('convertToInteractive',\n",
              "                                                     [key], {});\n",
              "          if (!dataTable) return;\n",
              "\n",
              "          const docLinkHtml = 'Like what you see? Visit the ' +\n",
              "            '<a target=\"_blank\" href=https://colab.research.google.com/notebooks/data_table.ipynb>data table notebook</a>'\n",
              "            + ' to learn more about interactive tables.';\n",
              "          element.innerHTML = '';\n",
              "          dataTable['output_type'] = 'display_data';\n",
              "          await google.colab.output.renderOutput(dataTable, element);\n",
              "          const docLink = document.createElement('div');\n",
              "          docLink.innerHTML = docLinkHtml;\n",
              "          element.appendChild(docLink);\n",
              "        }\n",
              "      </script>\n",
              "    </div>\n",
              "  </div>\n",
              "  "
            ],
            "text/plain": [
              "      date_y                       unit_id treatment     event_name  \\\n",
              "0 2021-05-05  m8wVa7J9I6XLoN6tAM3LZ9NsMu8=     alt_a  CONTENTS SEEN   \n",
              "1 2021-05-05  m8wVa7J9I6XLoN6tAM3LZ9NsMu8=     alt_a  CONTENTS SEEN   \n",
              "2 2021-05-05  9RruApLe0crXh53rUU9ljHHyEOY=     alt_a  CONTENTS SEEN   \n",
              "3 2021-05-05  S0loF0Ph8hDgrYDE9VzKaKvDg6I=     alt_a  CONTENTS SEEN   \n",
              "4 2021-05-05  S0loF0Ph8hDgrYDE9VzKaKvDg6I=     alt_a  CONTENTS SEEN   \n",
              "\n",
              "      interface_y  Converted  \n",
              "0  mobile-android      False  \n",
              "1  mobile-android      False  \n",
              "2  mobile-android      False  \n",
              "3  mobile-android      False  \n",
              "4  mobile-android      False  "
            ]
          },
          "execution_count": 35,
          "metadata": {},
          "output_type": "execute_result"
        }
      ],
      "source": [
        "cleaned_df.head()"
      ]
    },
    {
      "cell_type": "markdown",
      "metadata": {
        "id": "21qUYPvnqQKZ"
      },
      "source": [
        "# Statisitcal power\n",
        "\n",
        "This is needed to minimize type 2 error or false negatives. "
      ]
    },
    {
      "cell_type": "code",
      "execution_count": null,
      "metadata": {
        "id": "OvyIqRLPqIHB"
      },
      "outputs": [],
      "source": [
        "# Set parameters\n",
        "#interfacet = \n",
        "def power_analysis(interface,treatment_1,treatment_2):\n",
        "\n",
        "  alpha = 0.05\n",
        "  power = 0.9\n",
        "  effect_size = 0.4\n",
        "  group_1 = float(len(cleaned_df[(cleaned_df.interface_y == interface) & (cleaned_df.treatment == treatment_1)])) \n",
        "  group_2 = len(cleaned_df[(cleaned_df.interface_y == interface) & (cleaned_df.treatment== treatment_2)])\n",
        "  ratio = group_1/group_2\n",
        "  sample_size = group_2\n",
        "  analysis = pwr.TTestIndPower()\n",
        "  esresult = analysis.solve_power(effect_size = effect_size, \n",
        "                                  power = power, \n",
        "                                  nobs1 =  None, \n",
        "                                  ratio = ratio, \n",
        "                                  alpha = alpha)\n",
        "  print('Minimum sample size:', round(esresult,2))"
      ]
    },
    {
      "cell_type": "code",
      "execution_count": null,
      "metadata": {
        "colab": {
          "base_uri": "https://localhost:8080/"
        },
        "id": "7B4tfdakqL_e",
        "outputId": "dc7d2115-5f2d-4c2b-e2a9-d16ef1639bc2"
      },
      "outputs": [
        {
          "name": "stdout",
          "output_type": "stream",
          "text": [
            "Minimum sample size: 127.04\n",
            "Minimum sample size: 127.95\n",
            "Minimum sample size: 131.34\n"
          ]
        }
      ],
      "source": [
        "#android users\n",
        "android_alt_control = power_analysis('mobile-android','alt_a','control')\n",
        "android_altb_control = power_analysis('mobile-android','alt_b','control')\n",
        "android_altb_control = power_analysis('mobile-android','alt_a','alt_b')"
      ]
    },
    {
      "cell_type": "code",
      "execution_count": null,
      "metadata": {
        "colab": {
          "base_uri": "https://localhost:8080/"
        },
        "id": "zWMBU18yOP2q",
        "outputId": "9f738acd-c49d-4be4-8b57-29e924587dfa"
      },
      "outputs": [
        {
          "name": "stdout",
          "output_type": "stream",
          "text": [
            "Minimum sample size: 122.24\n",
            "Minimum sample size: 121.95\n",
            "Minimum sample size: 132.65\n"
          ]
        }
      ],
      "source": [
        "# ios users\n",
        "android_alt_control = power_analysis('mobile-iOS','alt_a','control')\n",
        "android_altb_control = power_analysis('mobile-iOS','alt_b','control')\n",
        "android_altb_control = power_analysis('mobile-iOS','alt_a','alt_b')"
      ]
    },
    {
      "cell_type": "markdown",
      "metadata": {
        "id": "LyKRnbvPOkHF"
      },
      "source": [
        "We see that our sample size satisfisfied the requirment of our power analysis"
      ]
    },
    {
      "cell_type": "markdown",
      "metadata": {
        "id": "a46WLZp3Qnyx"
      },
      "source": [
        "# Hypothesis testing performance of algorithims between ios and android (two-tailed)\n",
        "\n",
        "To control for confounding factors as shown in the previous code we\n",
        "* Restrict dates\n",
        "* Only logged in users are compared\n",
        "* Segment between different interfaces"
      ]
    },
    {
      "cell_type": "code",
      "execution_count": null,
      "metadata": {
        "id": "dBmudjqcMDiq"
      },
      "outputs": [],
      "source": [
        "def lift(a,b):\n",
        "    # Calcuate the mean of a and b \n",
        "    a_mean = np.mean(a)\n",
        "    b_mean = np.mean(b)\n",
        "    \n",
        "    # Calculate the lift using a_mean and b_mean\n",
        "    lift = (b_mean-a_mean)/a_mean\n",
        "  \n",
        "    return str(round(lift*100, 2)) + '%'"
      ]
    },
    {
      "cell_type": "code",
      "execution_count": null,
      "metadata": {
        "id": "vcxyRDBKZY_C"
      },
      "outputs": [],
      "source": [
        "def ab_segmentation(segment):\n",
        "  # Build a for loop for each interface\n",
        "  for subsegment in np.unique(cleaned_df[segment].values): # this will allow us to do lift & t-test for both android and ios seperately\n",
        "      print(subsegment.upper(), '\\n')\n",
        "      \n",
        "          \n",
        "      segment_df = cleaned_df[cleaned_df[segment] == subsegment] \n",
        "\n",
        "      converted = segment_df.groupby(['unit_id', 'treatment'])['Converted'].max()\n",
        "      converted = pd.DataFrame(converted.unstack(level=1)) \n",
        "      control = converted['control'].dropna()\n",
        "      alt_a = converted['alt_a'].dropna()\n",
        "      alt_b = converted['alt_b'].dropna()\n",
        "\n",
        "      print('lift alt_a vs control:', lift(control, alt_a))\n",
        "      print('lift alt_b vs control:', lift(control, alt_b))\n",
        "      print('lift alt_a vs alt_b:', lift(alt_b, alt_a),'\\n')\n",
        "\n",
        "      # our t-test\n",
        "      ttest_a_control = ttest_ind(control, alt_a)\n",
        "      ttest_b_control = ttest_ind(control, alt_b)\n",
        "      ttest_alt_a_alt_b = ttest_ind(alt_a, alt_b)\n",
        "\n",
        "      print('t-test alt_a vs control:', ttest_a_control)\n",
        "      print('t-test alt_b vs control:', ttest_b_control)\n",
        "      print('t-test alt_a vs alt_b:', ttest_alt_a_alt_b,'\\n')\n",
        "\n",
        "      # since we are conducting multiple test and we assume they are independent, use Sidak correction\n",
        "      pvals_array = [ttest_a_control[1],ttest_b_control[1],ttest_alt_a_alt_b[1]]\n",
        "      adjustedvalues=  sm.stats.multitest.multipletests(pvals_array, alpha=0.05, method='s')\n",
        "      print('adjusted results: ',adjustedvalues[0])\n",
        "      print('adjusted p values: ',adjustedvalues[1])\n",
        "      print('adjusted alpha Šidák: ',round(adjustedvalues[2],3),'\\n')"
      ]
    },
    {
      "cell_type": "code",
      "execution_count": null,
      "metadata": {
        "colab": {
          "base_uri": "https://localhost:8080/"
        },
        "id": "7v0-NYg0c3UL",
        "outputId": "8cea475f-67c7-417f-f4e9-f3322ffa4971"
      },
      "outputs": [
        {
          "name": "stdout",
          "output_type": "stream",
          "text": [
            "MOBILE-ANDROID \n",
            "\n",
            "lift alt_a vs control: 80.21%\n",
            "lift alt_b vs control: 61.17%\n",
            "lift alt_a vs alt_b: 11.81% \n",
            "\n",
            "t-test alt_a vs control: Ttest_indResult(statistic=-10.980704056569015, pvalue=5.8697595073233315e-28)\n",
            "t-test alt_b vs control: Ttest_indResult(statistic=-8.653400628385956, pvalue=5.43501205223831e-18)\n",
            "t-test alt_a vs alt_b: Ttest_indResult(statistic=2.386872063145191, pvalue=0.017003134501710194) \n",
            "\n",
            "adjusted results:  [ True  True False]\n",
            "adjusted p values:  [0.       0.       0.050147]\n",
            "adjusted alpha Šidák:  0.017 \n",
            "\n",
            "MOBILE-IOS \n",
            "\n",
            "lift alt_a vs control: 105.49%\n",
            "lift alt_b vs control: 77.29%\n",
            "lift alt_a vs alt_b: 15.91% \n",
            "\n",
            "t-test alt_a vs control: Ttest_indResult(statistic=-6.816427529629711, pvalue=1.063539509257669e-11)\n",
            "t-test alt_b vs control: Ttest_indResult(statistic=-5.2011000429578695, pvalue=2.074187923944943e-07)\n",
            "t-test alt_a vs alt_b: Ttest_indResult(statistic=1.6451081160096803, pvalue=0.10002060813545775) \n",
            "\n",
            "adjusted results:  [ True  True False]\n",
            "adjusted p values:  [3.19061444e-11 6.22256248e-07 2.71050077e-01]\n",
            "adjusted alpha Šidák:  0.017 \n",
            "\n"
          ]
        }
      ],
      "source": [
        "ab_segmentation('interface_y')"
      ]
    },
    {
      "cell_type": "markdown",
      "metadata": {
        "id": "Cquasi-LVRLe"
      },
      "source": [
        "# Hypothesis testing performance of algorithims between ios and android (one-tailed)\n"
      ]
    },
    {
      "cell_type": "code",
      "execution_count": null,
      "metadata": {
        "id": "A9p-QdvIM3O-"
      },
      "outputs": [],
      "source": [
        "def ab_segmentation_one_sided(segment):\n",
        "  # Build a for loop for each interface\n",
        "  for subsegment in np.unique(cleaned_df[segment].values): # this will allow us to do lift t-test for both android and ios seperately\n",
        "      print(subsegment.upper(), '\\n')\n",
        "      \n",
        "          \n",
        "      segment_df = cleaned_df[cleaned_df[segment] == subsegment] \n",
        "\n",
        "      converted = segment_df.groupby(['unit_id', 'treatment'])['Converted'].max()\n",
        "      converted = pd.DataFrame(converted.unstack(level=1)) \n",
        "      control = converted['control'].dropna()\n",
        "      alt_a = converted['alt_a'].dropna()\n",
        "      alt_b = converted['alt_b'].dropna()\n",
        "\n",
        "      print('lift alt_a vs control:', lift(control, alt_a))\n",
        "      print('lift alt_b vs control:', lift(control, alt_b))\n",
        "      print('lift alt_a vs alt_b:', lift(alt_b, alt_a),'\\n')\n",
        "\n",
        "      # our t-test\n",
        "      ttest_a_control = ttest_ind(control, alt_a,alternative='less')\n",
        "      ttest_b_control = ttest_ind(control, alt_b,alternative='less')\n",
        "      ttest_alt_a_alt_b = ttest_ind(alt_b, alt_a,alternative='less') # switch as we are interested if alt a is greater than altb b\n",
        "\n",
        "      print('t-test alt_a vs control:', ttest_a_control)\n",
        "      print('t-test alt_b vs control:', ttest_b_control)\n",
        "      print('t-test alt_a vs alt_b:', ttest_alt_a_alt_b,'\\n')\n",
        "\n",
        "      # since we are conducting multiple test and we assume they are independent, use Sidak correction\n",
        "      pvals_array = [ttest_a_control[1],ttest_b_control[1],ttest_alt_a_alt_b[1]]\n",
        "      adjustedvalues=  sm.stats.multitest.multipletests(pvals_array, alpha=0.05, method='s')\n",
        "      print('adjusted results: ',adjustedvalues[0])\n",
        "      print('adjusted p values: ',adjustedvalues[1])\n",
        "      print('adjusted alpha Šidák: ',round(adjustedvalues[2],3),'\\n')"
      ]
    },
    {
      "cell_type": "code",
      "execution_count": null,
      "metadata": {
        "colab": {
          "base_uri": "https://localhost:8080/"
        },
        "id": "VYuGO7yzSp5o",
        "outputId": "37f4ec44-6d1a-4b02-b55b-2cff72ef55b6"
      },
      "outputs": [
        {
          "name": "stdout",
          "output_type": "stream",
          "text": [
            "MOBILE-ANDROID \n",
            "\n",
            "lift alt_a vs control: 80.21%\n",
            "lift alt_b vs control: 61.17%\n",
            "lift alt_a vs alt_b: 11.81% \n",
            "\n",
            "t-test alt_a vs control: Ttest_indResult(statistic=-10.980704056569015, pvalue=2.9348797536616657e-28)\n",
            "t-test alt_b vs control: Ttest_indResult(statistic=-8.653400628385956, pvalue=2.717506026119155e-18)\n",
            "t-test alt_a vs alt_b: Ttest_indResult(statistic=-2.386872063145191, pvalue=0.008501567250855097) \n",
            "\n",
            "adjusted results:  [ True  True  True]\n",
            "adjusted p values:  [0.         0.         0.02528849]\n",
            "adjusted alpha Šidák:  0.017 \n",
            "\n",
            "MOBILE-IOS \n",
            "\n",
            "lift alt_a vs control: 105.49%\n",
            "lift alt_b vs control: 77.29%\n",
            "lift alt_a vs alt_b: 15.91% \n",
            "\n",
            "t-test alt_a vs control: Ttest_indResult(statistic=-6.816427529629711, pvalue=5.317697546288345e-12)\n",
            "t-test alt_b vs control: Ttest_indResult(statistic=-5.2011000429578695, pvalue=1.0370939619724715e-07)\n",
            "t-test alt_a vs alt_b: Ttest_indResult(statistic=-1.6451081160096803, pvalue=0.05001030406772888) \n",
            "\n",
            "adjusted results:  [ True  True False]\n",
            "adjusted p values:  [1.59532387e-11 3.11128156e-07 1.42652898e-01]\n",
            "adjusted alpha Šidák:  0.017 \n",
            "\n"
          ]
        }
      ],
      "source": [
        "ab_segmentation_one_sided('interface_y')"
      ]
    }
  ],
  "metadata": {
    "colab": {
      "collapsed_sections": [],
      "name": "traveloka_final_final.ipynb",
      "provenance": []
    },
    "kernelspec": {
      "display_name": "Python 3",
      "name": "python3"
    },
    "language_info": {
      "name": "python"
    }
  },
  "nbformat": 4,
  "nbformat_minor": 0
}
